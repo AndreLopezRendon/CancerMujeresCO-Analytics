{
  "nbformat": 4,
  "nbformat_minor": 0,
  "metadata": {
    "colab": {
      "provenance": [],
      "authorship_tag": "ABX9TyPOklAHlz8vcbn9jT1dYYRj",
      "include_colab_link": true
    },
    "kernelspec": {
      "name": "python3",
      "display_name": "Python 3"
    },
    "language_info": {
      "name": "python"
    }
  },
  "cells": [
    {
      "cell_type": "markdown",
      "metadata": {
        "id": "view-in-github",
        "colab_type": "text"
      },
      "source": [
        "<a href=\"https://colab.research.google.com/github/AndreLopezRendon/CancerMujeresCO-Analytics/blob/main/DB_SQL.ipynb\" target=\"_parent\"><img src=\"https://colab.research.google.com/assets/colab-badge.svg\" alt=\"Open In Colab\"/></a>"
      ]
    },
    {
      "cell_type": "markdown",
      "source": [
        "# Carga de datos CSV a base de datos SQL\n"
      ],
      "metadata": {
        "id": "I-wR5Y2J_poP"
      }
    },
    {
      "cell_type": "code",
      "source": [
        "!pip install mysql-connector-python"
      ],
      "metadata": {
        "colab": {
          "base_uri": "https://localhost:8080/"
        },
        "id": "PncvgFnTgeNp",
        "outputId": "498ee088-7303-45a1-d5b3-3a4cad42ebcc"
      },
      "execution_count": null,
      "outputs": [
        {
          "output_type": "stream",
          "name": "stdout",
          "text": [
            "Collecting mysql-connector-python\n",
            "  Downloading mysql_connector_python-9.4.0-cp312-cp312-manylinux_2_28_x86_64.whl.metadata (7.5 kB)\n",
            "Downloading mysql_connector_python-9.4.0-cp312-cp312-manylinux_2_28_x86_64.whl (33.9 MB)\n",
            "\u001b[2K   \u001b[90m━━━━━━━━━━━━━━━━━━━━━━━━━━━━━━━━━━━━━━━━\u001b[0m \u001b[32m33.9/33.9 MB\u001b[0m \u001b[31m44.8 MB/s\u001b[0m eta \u001b[36m0:00:00\u001b[0m\n",
            "\u001b[?25hInstalling collected packages: mysql-connector-python\n",
            "Successfully installed mysql-connector-python-9.4.0\n"
          ]
        }
      ]
    },
    {
      "cell_type": "markdown",
      "source": [
        "# Validacion de acceso\n"
      ],
      "metadata": {
        "id": "aPnVfpFS_vX4"
      }
    },
    {
      "cell_type": "code",
      "execution_count": null,
      "metadata": {
        "colab": {
          "base_uri": "https://localhost:8080/"
        },
        "id": "hVV0qoNkgB7_",
        "outputId": "d834d0e6-1894-4e08-f272-2a5fe892c904"
      },
      "outputs": [
        {
          "output_type": "stream",
          "name": "stdout",
          "text": [
            "✅ Conexión exitosa a la base de datos Clever Cloud\n",
            "🔒 Conexión cerrada\n"
          ]
        }
      ],
      "source": [
        "import mysql.connector\n",
        "from mysql.connector import Error\n",
        "\n",
        "try:\n",
        "    connection = mysql.connector.connect(\n",
        "        host='b8ekepsemecapjvdak4s-mysql.services.clever-cloud.com',\n",
        "        port=3306,                                 # Puerto por defecto de MySQL\n",
        "        user='uf0jkeup7dt7ewwf',                   # Usuario de la base de datos\n",
        "        password='DjTQ7fm4FmodmSUChSgU',               # Contraseña\n",
        "        database='b8ekepsemecapjvdak4s'                    # Nombre de la base de datos\n",
        "    )\n",
        "\n",
        "    if connection.is_connected():\n",
        "        print(\"✅ Conexión exitosa a la base de datos Clever Cloud\")\n",
        "\n",
        "except Error as e:\n",
        "    print(f\"❌ Error al conectar: {e}\")\n",
        "\n",
        "finally:\n",
        "    if 'connection' in locals() and connection.is_connected():\n",
        "        connection.close()\n",
        "        print(\"🔒 Conexión cerrada\")"
      ]
    },
    {
      "cell_type": "markdown",
      "source": [
        "# Codigo de carga"
      ],
      "metadata": {
        "id": "nDrQnGC5_48A"
      }
    },
    {
      "cell_type": "code",
      "source": [
        "import pandas as pd\n",
        "from sqlalchemy import create_engine\n",
        "\n",
        "# ⚙️ Parámetros de conexión\n",
        "host='b8ekepsemecapjvdak4s-mysql.services.clever-cloud.com'\n",
        "port=3306                                 # Puerto por defecto de MySQL\n",
        "user='uf0jkeup7dt7ewwf'                   # Usuario de la base de datos\n",
        "password='DjTQ7fm4FmodmSUChSgU'               # Contraseña\n",
        "database='b8ekepsemecapjvdak4s'                    # Nombre de la base de datos\n",
        "\n",
        "# 📁 Ruta al archivo CSV\n",
        "csv_file_path = '/consolidado_cancer_mama_cali.csv'  # Ejemplo: 'data/cancer_mujeres.csv'\n",
        "\n",
        "# 🧱 Nombre de la nueva tabla\n",
        "table_name = 'consolidado_cancer_mama_cali_2021_2022'  # Ejemplo: 'cancer_mujeres'\n",
        "\n",
        "# 🔌 Crear conexión con SQLAlchemy\n",
        "engine = create_engine(f'mysql+mysqlconnector://{user}:{password}@{host}:{port}/{database}')\n",
        "\n",
        "# 📤 Cargar CSV y subirlo como nueva tabla\n",
        "df = pd.read_csv(csv_file_path)\n",
        "df.to_sql(name=table_name, con=engine, if_exists='replace', index=False)\n",
        "\n",
        "print(f\"✅ Tabla '{table_name}' creada exitosamente en la base de datos.\")\n"
      ],
      "metadata": {
        "colab": {
          "base_uri": "https://localhost:8080/"
        },
        "id": "UX5Wx8bdhFkl",
        "outputId": "1cd83dcb-54b2-4b07-ee76-2b84ba582e87"
      },
      "execution_count": null,
      "outputs": [
        {
          "output_type": "stream",
          "name": "stdout",
          "text": [
            "✅ Tabla 'consolidado_cancer_mama_cali_2021_2022' creada exitosamente en la base de datos.\n"
          ]
        }
      ]
    },
    {
      "cell_type": "markdown",
      "source": [
        "# Validacion de carga"
      ],
      "metadata": {
        "id": "Gy8ax1g__zXx"
      }
    },
    {
      "cell_type": "code",
      "source": [
        "#Ejecutar SELECT COUNT(*) para verificar registros\n",
        "query = f\"SELECT COUNT(*) AS total_registros FROM {table_name}\"\n",
        "df_count = pd.read_sql(query, con=engine)\n",
        "\n",
        "#Mostrar resultado\n",
        "print(f\"🔢 Total de registros en '{table_name}':\", df_count['total_registros'][0])\n"
      ],
      "metadata": {
        "id": "1kkMN6_Sia-N",
        "outputId": "243022dc-0e79-499a-db4a-b23656d3b0d7",
        "colab": {
          "base_uri": "https://localhost:8080/"
        }
      },
      "execution_count": null,
      "outputs": [
        {
          "output_type": "stream",
          "name": "stdout",
          "text": [
            "🔢 Total de registros en 'consolidado_cancer_mama_cali_2021_2022': 1444\n"
          ]
        }
      ]
    },
    {
      "cell_type": "markdown",
      "source": [],
      "metadata": {
        "id": "jjCQ09p0iGxt"
      }
    }
  ]
}